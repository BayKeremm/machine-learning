{
 "cells": [
  {
   "cell_type": "code",
   "execution_count": null,
   "metadata": {},
   "outputs": [],
   "source": [
    "import numpy as np\n",
    "import pandas as pd\n",
    "from sklearn.preprocessing import OneHotEncoder\n",
    "from sklearn.neural_network import MLPClassifier"
   ]
  },
  {
   "cell_type": "code",
   "execution_count": null,
   "metadata": {},
   "outputs": [],
   "source": [
    "path_train = \"../archive/poker-hand-training.csv\"\n",
    "path_test = \"../archive/poker-hand-testing.csv\"\n",
    "\n",
    "train_data = pd.read_csv(path_train)\n",
    "test_data = pd.read_csv(path_test)\n",
    "\n",
    "train_data.columns = [\"SuitCard1\",\"RC1\", \"SuitCard2\",\"RC2\",\"SuitCard3\",\"RC3\",\"SuitCard4\",\"RC4\",\"SuitCard5\", \"RC5\",\"PH\"]\n",
    "test_data.columns = [\"SuitCard1\",\"RC1\", \"SuitCard2\",\"RC2\",\"SuitCard3\",\"RC3\",\"SuitCard4\",\"RC4\",\"SuitCard5\", \"RC5\",\"PH\"]\n",
    "\n",
    "#seperate training and test data   \n",
    "train_x = train_data.drop(\"PH\", axis = 1).to_numpy()\n",
    "train_y = train_data.PH.to_numpy()\n",
    "\n",
    "test_x = test_data.drop(\"PH\", axis = 1).to_numpy()\n",
    "test_y = test_data.PH.to_numpy()"
   ]
  },
  {
   "cell_type": "code",
   "execution_count": null,
   "metadata": {},
   "outputs": [],
   "source": [
    "train_x.shape"
   ]
  },
  {
   "cell_type": "code",
   "execution_count": null,
   "metadata": {},
   "outputs": [],
   "source": [
    "#One Hot Encoder for the y values\n",
    "encoder = OneHotEncoder(sparse=False)\n",
    "train_y_onehot = encoder.fit_transform(np.reshape(train_y,(-1,1)))\n",
    "test_y_onehot = encoder.fit_transform(np.reshape(test_y,(-1,1)))"
   ]
  },
  {
   "cell_type": "code",
   "execution_count": null,
   "metadata": {},
   "outputs": [],
   "source": [
    "#Multilayer perceptron with 85 neurons as input and 10 neurons as output\n",
    "model = MLPClassifier(hidden_layer_sizes=(50,50),\n",
    "                      solver='adam',\n",
    "                      activation='relu',\n",
    "                      verbose=True,\n",
    "                      alpha = 0.001)"
   ]
  },
  {
   "cell_type": "code",
   "execution_count": null,
   "metadata": {},
   "outputs": [],
   "source": [
    "model.hidden_layer_sizes\n",
    "print(train_x.shape[1])\n",
    "print(train_y_onehot.shape[1])"
   ]
  },
  {
   "cell_type": "code",
   "execution_count": null,
   "metadata": {},
   "outputs": [],
   "source": [
    "model.fit(train_x,train_y_onehot)"
   ]
  },
  {
   "cell_type": "code",
   "execution_count": null,
   "metadata": {},
   "outputs": [],
   "source": [
    "predictions = model.predict(test_x)"
   ]
  },
  {
   "cell_type": "code",
   "execution_count": null,
   "metadata": {},
   "outputs": [],
   "source": [
    "print('Training Set Accuracy: %f' % (np.mean(predictions == test_y_onehot) * 100))"
   ]
  }
 ],
 "metadata": {
  "kernelspec": {
   "display_name": "Python 3.10.4 ('ml-masters')",
   "language": "python",
   "name": "python3"
  },
  "language_info": {
   "codemirror_mode": {
    "name": "ipython",
    "version": 3
   },
   "file_extension": ".py",
   "mimetype": "text/x-python",
   "name": "python",
   "nbconvert_exporter": "python",
   "pygments_lexer": "ipython3",
   "version": "3.10.4"
  },
  "orig_nbformat": 4,
  "vscode": {
   "interpreter": {
    "hash": "02d839075717808c242e78230290f9c44601d4eb3c3592dcf0040d4f25a8fdf1"
   }
  }
 },
 "nbformat": 4,
 "nbformat_minor": 2
}
